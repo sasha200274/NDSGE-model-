{
 "cells": [
  {
   "cell_type": "code",
   "execution_count": 1,
   "metadata": {
    "collapsed": true
   },
   "outputs": [
    {
     "data": {
      "text/plain": "\"\\nslov(input('Введите слово со множ ч '))\\nslovisk(input('Введите слово без множ ч '))\\nslovisktokmnoj(input('Введите слово c только множ ч '))\\n\""
     },
     "execution_count": 1,
     "metadata": {},
     "output_type": "execute_result"
    }
   ],
   "source": [
    "import requests\n",
    "\n",
    "\n",
    "def get_html(url):\n",
    "  response = requests.get(url)\n",
    "  return response.text\n",
    "\n",
    "def slov(word):\n",
    "  start = 0\n",
    "  a = ['','','','','','','','','','','','','','','','','','']\n",
    "  w = ''\n",
    "  if ord(word[1])>ord('А') and ord(word[1])<ord('я'):\n",
    "\n",
    "    url = ('https://skloneniya.ru/{}'.format(word))\n",
    "    content = get_html(url)\n",
    "    start = content.find('<tbody>')\n",
    "\n",
    "    for i in range(12+6):\n",
    "      start = content.find('<td>',start)\n",
    "      start = content.find('>',start)+1\n",
    "      while content[start] != '<' and content[start] != ',':\n",
    "        a[i] += content[start]\n",
    "        start+=1\n",
    "  else:\n",
    "    a.append(word)\n",
    "  a = list(filter(None, a))\n",
    "  a = list(set(a))\n",
    "\n",
    "  return a\n",
    "\n",
    "\n",
    "def slovisk(word):\n",
    "  start = 0\n",
    "  a = ['','','','','','','','','','','','','','','','','','']\n",
    "  w = ''\n",
    "  if ord(word[1])>ord('А') and ord(word[1])<ord('я'):\n",
    "    #print('Слово Русское')\n",
    "    url = ('https://skloneniya.ru/{}'.format(word))\n",
    "    content = get_html(url)\n",
    "    start = content.find('<tbody>')\n",
    "    for i in range(12):\n",
    "      start = content.find('<td>',start)\n",
    "      start = content.find('>',start)+1\n",
    "      while content[start] != '<' and content[start] != ',':\n",
    "        a[i] += content[start]\n",
    "        start+=1\n",
    "  else:\n",
    "    a.append(word)\n",
    "  a = list(filter(None, a))\n",
    "  a = list(set(a))\n",
    "  return a\n",
    "\n",
    "def slovisktokmnoj(word):\n",
    "  start = 0\n",
    "  pad = ['Предложный','Винительный','Дательный','Родительный','Творительный','Именительный']\n",
    "  a = ['','','','','','','','','','','','','','','','','','']\n",
    "  w = ''\n",
    "  if ord(word[1])>ord('А') and ord(word[1])<ord('я'):\n",
    "    print('Слово Русское')\n",
    "    url = ('https://skloneniya.ru/{}'.format(word))\n",
    "    content = get_html(url)\n",
    "    start = content.find('<tbody>')\n",
    "    for i in range(12):\n",
    "      start = content.find('<td>',start)\n",
    "      start = content.find('>',start)+1\n",
    "      while content[start] != '<':\n",
    "        a[i] += content[start]\n",
    "        start+=1\n",
    "  else:\n",
    "    a.append(word)\n",
    "  a = list(filter(None, a))\n",
    "  a = list(set(a))\n",
    "  for c in pad :\n",
    "    a.remove(c)\n",
    "\n",
    "  return a\n",
    "'''\n",
    "slov(input('Введите слово со множ ч '))\n",
    "slovisk(input('Введите слово без множ ч '))\n",
    "slovisktokmnoj(input('Введите слово c только множ ч '))\n",
    "'''\n",
    "\n",
    "['нефть OR нефти OR  нефтью OR золотом OR золота OR золоте OR  золоту OR золото OR рублях OR рубли OR рубле OR рубль OR рублям OR рублю OR рублей OR рублём OR рублями OR рубля OR газов OR газами OR газах OR газу OR газ OR газам OR газе OR газа OR газом OR евро OR курс']"
   ]
  },
  {
   "cell_type": "code",
   "execution_count": 3,
   "outputs": [],
   "source": [
    "import twint\n",
    "import pandas as pd"
   ],
   "metadata": {
    "collapsed": false,
    "pycharm": {
     "name": "#%%\n"
    }
   }
  },
  {
   "cell_type": "code",
   "execution_count": 4,
   "outputs": [],
   "source": [
    "import nest_asyncio\n",
    "nest_asyncio.apply()\n",
    "\n",
    "def download(poiscslova,kanals,pereriod):\n",
    "    c = twint.Config()\n",
    "    c.Count = True\n",
    "    c.Stats = True\n",
    "    c.Pandas = True\n",
    "    c.Lang = 'ru'\n",
    "    c.Since = pereriod[0]\n",
    "    c.Until = pereriod[1]\n",
    "    a = ''\n",
    "    for x in range(len(poiscslova)):\n",
    "        a = a + poiscslova[x]\n",
    "        if x +2 < len(poiscslova):\n",
    "            a = a + ' OR '\n",
    "    print(a)\n",
    "    c.Search = a\n",
    "    b1 =pd.DataFrame()\n",
    "    for i in kanals:\n",
    "        c.Username = i\n",
    "        twint.run.Search(c)\n",
    "        b = twint.storage.panda.Tweets_df\n",
    "        b1 = pd.concat([b1, b], ignore_index=True)\n",
    "        print(b)\n",
    "    return b1"
   ],
   "metadata": {
    "collapsed": false,
    "pycharm": {
     "name": "#%%\n"
    }
   }
  },
  {
   "cell_type": "code",
   "execution_count": 5,
   "outputs": [
    {
     "data": {
      "text/plain": "['Родительный',\n 'Винительный',\n 'Предложный',\n 'Россию',\n 'России',\n 'Именительный',\n 'Россией',\n 'Дательный',\n 'Россия',\n 'Творительный']"
     },
     "execution_count": 5,
     "metadata": {},
     "output_type": "execute_result"
    }
   ],
   "source": [
    "slovisk('россия')"
   ],
   "metadata": {
    "collapsed": false,
    "pycharm": {
     "name": "#%%\n"
    }
   }
  },
  {
   "cell_type": "code",
   "execution_count": null,
   "outputs": [],
   "source": [
    "#m=slov('капитал')\n",
    "#b =slovisk('золото')\n",
    "#c2 = slov('валюта')\n",
    "#c3 = slov('санкция')\n",
    "kanals = ['lentaruofficial','ru_rbc','tvrain','bbcrussian','MedvedevRussia','vesti_news','rianru','GoogleRussia','ForbesRussia','yandex','EchoMskRu','RuslanUsachev','RT_russian','bank_of_russia']\n",
    "\n",
    "slova =['паритет OR америка OR россия']\n",
    "iyt = download(slova,kanals,['2015-01-01 00:10:00','2017-02-20 00:10:00'])\n",
    "\n",
    "iyt.to_csv('Testui.csv')"
   ],
   "metadata": {
    "collapsed": false,
    "pycharm": {
     "name": "#%%\n",
     "is_executing": true
    }
   }
  },
  {
   "cell_type": "code",
   "execution_count": 7,
   "outputs": [],
   "source": [
    "m=slov('нефть')\n",
    "b =slov('доллар')\n",
    "c =slov('рубль')\n",
    "r =slov('газ')\n",
    "#c2 = slov('валюта')\n",
    "#c3 = slov('санкция')\n",
    "c4 = slov('евро')\n",
    "#+c3\n",
    "slova = m+b+c+r+c4+[' OR курс OR валюта OR санкции']"
   ],
   "metadata": {
    "collapsed": false,
    "pycharm": {
     "name": "#%%\n"
    }
   }
  },
  {
   "cell_type": "code",
   "execution_count": 8,
   "outputs": [],
   "source": [
    "kanals = ['Pravitelstvo_RF','dumagovru','MID_RF','lentaruofficial','ru_rbc','KremlinRussia','tvrain','bbcrussian','MedvedevRussia','vesti_news','rianru','GoogleRussia','ForbesRussia','yandex','EchoMskRu','RuslanUsachev','RT_russian','bank_of_russia']"
   ],
   "metadata": {
    "collapsed": false,
    "pycharm": {
     "name": "#%%\n"
    }
   }
  },
  {
   "cell_type": "code",
   "execution_count": null,
   "outputs": [],
   "source": [
    "iyt = download(slova,kanals,['2015-01-01 00:10:00','2021-02-20 00:10:00'])\n",
    "\n",
    "iyt.to_csv('downRuTweet3.csv')"
   ],
   "metadata": {
    "collapsed": false,
    "pycharm": {
     "name": "#%%\n"
    }
   }
  },
  {
   "cell_type": "code",
   "execution_count": null,
   "outputs": [],
   "source": [
    "m=slov('нефть')\n",
    "b =slovisk('золото')\n",
    "c2 = slov('валюта')\n",
    "c3 = slov('санкция')\n",
    "#+c3\n",
    "slova =b\n",
    "download(slova,kanals,['2015-01-01 00:10:00','2017-02-20 00:10:00'])\n",
    "#2021\n",
    "iyt.to_csv('downRuTweet3.csv')"
   ],
   "metadata": {
    "collapsed": false,
    "pycharm": {
     "name": "#%%\n"
    }
   }
  },
  {
   "cell_type": "code",
   "execution_count": null,
   "outputs": [],
   "source": [
    "#угроза угрожает кризис OR россией OR россии OR россию fvthbrfyws\n",
    "iyt.head()\n"
   ],
   "metadata": {
    "collapsed": false,
    "pycharm": {
     "name": "#%%\n"
    }
   }
  }
 ],
 "metadata": {
  "kernelspec": {
   "display_name": "Python 3",
   "language": "python",
   "name": "python3"
  },
  "language_info": {
   "codemirror_mode": {
    "name": "ipython",
    "version": 2
   },
   "file_extension": ".py",
   "mimetype": "text/x-python",
   "name": "python",
   "nbconvert_exporter": "python",
   "pygments_lexer": "ipython2",
   "version": "2.7.6"
  }
 },
 "nbformat": 4,
 "nbformat_minor": 0
}